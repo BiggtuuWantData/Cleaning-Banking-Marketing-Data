{
 "cells": [
  {
   "cell_type": "code",
   "execution_count": 36,
   "id": "b282e08c",
   "metadata": {},
   "outputs": [
    {
     "name": "stdout",
     "output_type": "stream",
     "text": [
      "credit_default\n",
      "no         32588\n",
      "unknown     8597\n",
      "yes            3\n",
      "Name: count, dtype: int64\n",
      "--------------\n",
      "mortgage\n",
      "yes        21576\n",
      "no         18622\n",
      "unknown      990\n",
      "Name: count, dtype: int64\n",
      "--------------\n",
      "previous_outcome\n",
      "nonexistent    35563\n",
      "failure         4252\n",
      "success         1373\n",
      "Name: count, dtype: int64\n",
      "--------------\n",
      "campaign_outcome\n",
      "no     36548\n",
      "yes     4640\n",
      "Name: count, dtype: int64\n",
      "--------------\n"
     ]
    }
   ],
   "source": [
    "import pandas as pd\n",
    "import numpy as np\n",
    "\n",
    "df = pd.read_csv(\"bank_marketing.csv\")\n",
    "\n",
    "for col in [\"credit_default\", \"mortgage\", \"previous_outcome\", \"campaign_outcome\"]:\n",
    "    print(df[col].value_counts())\n",
    "    print(\"--------------\")\n",
    "\n",
    "\n",
    "   \n",
    "\n",
    " "
   ]
  }
 ],
 "metadata": {
  "kernelspec": {
   "display_name": "Python 3",
   "language": "python",
   "name": "python3"
  },
  "language_info": {
   "codemirror_mode": {
    "name": "ipython",
    "version": 3
   },
   "file_extension": ".py",
   "mimetype": "text/x-python",
   "name": "python",
   "nbconvert_exporter": "python",
   "pygments_lexer": "ipython3",
   "version": "3.13.2"
  }
 },
 "nbformat": 4,
 "nbformat_minor": 5
}
